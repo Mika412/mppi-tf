{
 "cells": [
  {
   "cell_type": "code",
   "execution_count": 1,
   "metadata": {},
   "outputs": [
    {
     "name": "stderr",
     "output_type": "stream",
     "text": [
      "/home/pierre/anaconda3/envs/pypose/lib/python3.9/site-packages/tqdm/auto.py:22: TqdmWarning: IProgress not found. Please update jupyter and ipywidgets. See https://ipywidgets.readthedocs.io/en/stable/user_install.html\n",
      "  from .autonotebook import tqdm as notebook_tqdm\n"
     ]
    }
   ],
   "source": [
    "# Run the controller\n",
    "import torch\n",
    "import numpy as np\n",
    "from utils import dtype, npdtype, load_param, get_device\n",
    "from controllers.mppi_base import ControllerBase\n",
    "from costs.static import Static\n",
    "from models.auv_torch import AUVFossen\n",
    "from observers.observer_base import ObserverBase"
   ]
  },
  {
   "cell_type": "code",
   "execution_count": 2,
   "metadata": {},
   "outputs": [],
   "source": [
    "model_config_file = \"../../config/models/rexrov2.default.yaml\"\n",
    "cost_config_file = \"../../config/tasks/static_cost.torch.yaml\"\n",
    "cont_config_file = \"../../config/controller/rexrov2.torch.yaml\""
   ]
  },
  {
   "cell_type": "code",
   "execution_count": 3,
   "metadata": {},
   "outputs": [],
   "source": [
    "k = 2000\n",
    "tau = 50\n",
    "lam = 0.25\n",
    "gamma = 0.1\n",
    "upsilon = 1.5\n",
    "\n",
    "dt = 0.1\n",
    "\n",
    "model_conf = load_param(model_config_file)\n",
    "cost_conf = load_param(cost_config_file)\n",
    "cont_conf = load_param(cont_config_file)\n",
    "\n",
    "Q = np.array(cost_conf[\"Q\"], dtype=npdtype)\n",
    "sigma = np.array(cont_conf[\"noise\"], dtype=npdtype)\n",
    "goal = np.array(cost_conf[\"goal\"], dtype=npdtype)[..., None]\n"
   ]
  },
  {
   "cell_type": "code",
   "execution_count": 4,
   "metadata": {},
   "outputs": [
    {
     "name": "stdout",
     "output_type": "stream",
     "text": [
      "True\n",
      "cuda:0\n",
      "Total: 1.7197572223999942\n",
      "Rollout: 1.4353313619000574\n",
      "Model: 1.3861522053004365\n",
      "Cost: 0.041875129099889816\n",
      "Update: 0.00041363500004081287\n"
     ]
    }
   ],
   "source": [
    "# GPU execution\n",
    "device = get_device(gpu=0)\n",
    "print(device)\n",
    "\n",
    "model = AUVFossen(model_conf).to(device)\n",
    "cost = Static(lam=lam,\n",
    "              gamma=gamma,\n",
    "              upsilon=upsilon,\n",
    "              sigma=sigma,\n",
    "              goal=goal,\n",
    "              Q=Q).to(device)\n",
    "obs = ObserverBase(log=False)\n",
    "cont = ControllerBase(model=model,\n",
    "                      cost=cost,\n",
    "                      observer=obs,\n",
    "                      k=k,\n",
    "                      tau=tau,\n",
    "                      lam=lam,\n",
    "                      upsilon=upsilon,\n",
    "                      sigma=sigma).to(device)\n",
    "\n",
    "state = torch.Tensor(np.zeros((3+4+3+3, 1), dtype=npdtype)).to(device)\n",
    "state[6] = 1.\n",
    "\n",
    "for i in range(20):\n",
    "    act = cont(state)\n",
    "    next_state = model(state[None, ...], act[None, ...])[0]\n",
    "    state = next_state\n",
    "timeDict = cont.timeDict\n",
    "\n",
    "print(\"Total:\", timeDict[\"total\"]/timeDict[\"calls\"])\n",
    "print(\"Rollout:\", timeDict[\"rollout\"]/timeDict[\"calls\"])\n",
    "print(\"Model:\", timeDict[\"model\"]/timeDict[\"calls\"])\n",
    "print(\"Cost:\", timeDict[\"cost\"]/timeDict[\"calls\"])\n",
    "print(\"Update:\", timeDict[\"update\"]/timeDict[\"calls\"])\n"
   ]
  },
  {
   "cell_type": "code",
   "execution_count": 5,
   "metadata": {},
   "outputs": [
    {
     "name": "stdout",
     "output_type": "stream",
     "text": [
      "cpu\n",
      "Total: 0.7391295651001201\n",
      "Rollout: 0.7282633906000683\n",
      "Model: 0.6831583773001058\n",
      "Cost: 0.03734689234970574\n",
      "Update: 0.000721538049992887\n"
     ]
    }
   ],
   "source": [
    "# CPU execution\n",
    "device = get_device(cpu=True)\n",
    "print(device)\n",
    "\n",
    "model = AUVFossen(model_conf).to(device)\n",
    "cost = Static(lam=lam,\n",
    "              gamma=gamma,\n",
    "              upsilon=upsilon,\n",
    "              sigma=sigma,\n",
    "              goal=goal,\n",
    "              Q=Q).to(device)\n",
    "obs = ObserverBase(log=False)\n",
    "cont = ControllerBase(model=model,\n",
    "                      cost=cost,\n",
    "                      observer=obs,\n",
    "                      k=k,\n",
    "                      tau=tau,\n",
    "                      lam=lam,\n",
    "                      upsilon=upsilon,\n",
    "                      sigma=sigma).to(device)\n",
    "\n",
    "state = torch.Tensor(np.zeros((3+4+3+3, 1), dtype=npdtype)).to(device)\n",
    "state[6] = 1.\n",
    "\n",
    "for i in range(20):\n",
    "    act = cont(state)\n",
    "    next_state = model(state[None, ...], act[None, ...])[0]\n",
    "    state = next_state\n",
    "timeDict = cont.timeDict\n",
    "\n",
    "print(\"Total:\", timeDict[\"total\"]/timeDict[\"calls\"])\n",
    "print(\"Rollout:\", timeDict[\"rollout\"]/timeDict[\"calls\"])\n",
    "print(\"Model:\", timeDict[\"model\"]/timeDict[\"calls\"])\n",
    "print(\"Cost:\", timeDict[\"cost\"]/timeDict[\"calls\"])\n",
    "print(\"Update:\", timeDict[\"update\"]/timeDict[\"calls\"])\n"
   ]
  },
  {
   "cell_type": "code",
   "execution_count": null,
   "metadata": {},
   "outputs": [],
   "source": []
  },
  {
   "cell_type": "code",
   "execution_count": null,
   "metadata": {},
   "outputs": [],
   "source": []
  }
 ],
 "metadata": {
  "kernelspec": {
   "display_name": "pypose",
   "language": "python",
   "name": "python3"
  },
  "language_info": {
   "codemirror_mode": {
    "name": "ipython",
    "version": 3
   },
   "file_extension": ".py",
   "mimetype": "text/x-python",
   "name": "python",
   "nbconvert_exporter": "python",
   "pygments_lexer": "ipython3",
   "version": "3.9.15"
  },
  "orig_nbformat": 4
 },
 "nbformat": 4,
 "nbformat_minor": 2
}
