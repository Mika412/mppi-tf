{
 "cells": [
  {
   "cell_type": "code",
   "execution_count": 1,
   "metadata": {},
   "outputs": [
    {
     "name": "stderr",
     "output_type": "stream",
     "text": [
      "/home/pierre/anaconda3/envs/pypose/lib/python3.9/site-packages/tqdm/auto.py:22: TqdmWarning: IProgress not found. Please update jupyter and ipywidgets. See https://ipywidgets.readthedocs.io/en/stable/user_install.html\n",
      "  from .autonotebook import tqdm as notebook_tqdm\n"
     ]
    }
   ],
   "source": [
    "# Run the controller\n",
    "import torch\n",
    "from torch.profiler import profile, record_function, ProfilerActivity\n",
    "import numpy as np\n",
    "from utils import dtype, npdtype, load_param, get_device\n",
    "from controllers.mppi_base import ControllerBase\n",
    "from costs.static import Static\n",
    "from models.auv_torch import AUVFossen\n",
    "from observers.observer_base import ObserverBase"
   ]
  },
  {
   "cell_type": "code",
   "execution_count": 2,
   "metadata": {},
   "outputs": [],
   "source": [
    "model_config_file = \"../../config/models/rexrov2.default.yaml\"\n",
    "cost_config_file = \"../../config/tasks/static_cost.torch.yaml\"\n",
    "cont_config_file = \"../../config/controller/rexrov2.torch.yaml\""
   ]
  },
  {
   "cell_type": "code",
   "execution_count": 3,
   "metadata": {},
   "outputs": [],
   "source": [
    "k = 2000\n",
    "tau = 50\n",
    "lam = 0.25\n",
    "gamma = 0.1\n",
    "upsilon = 1.5\n",
    "\n",
    "dt = 0.1\n",
    "\n",
    "model_conf = load_param(model_config_file)\n",
    "cost_conf = load_param(cost_config_file)\n",
    "cont_conf = load_param(cont_config_file)\n",
    "\n",
    "Q = np.array(cost_conf[\"Q\"], dtype=npdtype)\n",
    "sigma = np.array(cont_conf[\"noise\"], dtype=npdtype)\n",
    "goal = np.array(cost_conf[\"goal\"], dtype=npdtype)[..., None]\n"
   ]
  },
  {
   "cell_type": "code",
   "execution_count": 6,
   "metadata": {},
   "outputs": [
    {
     "name": "stdout",
     "output_type": "stream",
     "text": [
      "True\n",
      "cuda:0\n"
     ]
    },
    {
     "name": "stderr",
     "output_type": "stream",
     "text": [
      "/home/pierre/anaconda3/envs/pypose/lib/python3.9/site-packages/torch/profiler/profiler.py:403: UserWarning: use_cuda is deprecated, use activities argument instead\n",
      "  warn(\"use_cuda is deprecated, use activities argument instead\")\n",
      "STAGE:2023-04-27 11:05:41 9014:9014 ActivityProfilerController.cpp:294] Completed Stage: Warm Up\n",
      "STAGE:2023-04-27 11:05:41 9014:9014 ActivityProfilerController.cpp:300] Completed Stage: Collection\n"
     ]
    },
    {
     "name": "stdout",
     "output_type": "stream",
     "text": [
      "-------------------------------------------------------  ------------  ------------  ------------  ------------  ------------  ------------  ------------  ------------  ------------  ------------  ------------  ------------  ------------  ------------  ---------------------------------------------------------------------------  \n",
      "                                                   Name    Self CPU %      Self CPU   CPU total %     CPU total  CPU time avg     Self CUDA   Self CUDA %    CUDA total  CUDA time avg       CPU Mem  Self CPU Mem      CUDA Mem  Self CUDA Mem    # of Calls  Source Location                                                              \n",
      "-------------------------------------------------------  ------------  ------------  ------------  ------------  ------------  ------------  ------------  ------------  ------------  ------------  ------------  ------------  ------------  ------------  ---------------------------------------------------------------------------  \n",
      "                                        model_inference        28.16%     141.279ms       100.00%     501.720ms     501.720ms       0.000us         0.00%      64.663ms      64.663ms          -4 b      -6.87 Mb           0 b    -567.95 Mb             1  ...-in method _record_function_enter of PyCapsule object at 0x7f10bdc2e630>  \n",
      "                                                                                                                                                                                                                                                             torch/_ops.py(437): __call__                                                 \n",
      "                                                                                                                                                                                                                                                             torch/autograd/profiler.py(487): __enter__                                   \n",
      "                                                                                                                                                                                                                                                             /tmp/ipykernel_9014/954472647.py(28): <module>                               \n",
      "                                                                                                                                                                                                                                                             IPython/core/interactiveshell.py(3433): run_code                             \n",
      "                                                                                                                                                                                                                                                                                                                                          \n",
      "                                              aten::mul         5.24%      26.313ms         7.92%      39.747ms      18.067us       5.682ms         8.79%       5.682ms       2.583us           0 b           0 b      25.59 Mb      25.59 Mb          2200  models/auv_torch.py(157): body2inertial                                      \n",
      "                                                                                                                                                                                                                                                             models/auv_torch.py(142): x_dot                                              \n",
      "                                                                                                                                                                                                                                                             models/auv_torch.py(129): forward                                            \n",
      "                                                                                                                                                                                                                                                             nn.Module: AUVFossen_0                                                       \n",
      "                                                                                                                                                                                                                                                             controllers/mppi_base.py(166): rollout_cost                                  \n",
      "                                                                                                                                                                                                                                                                                                                                          \n",
      "                                       cudaLaunchKernel         4.44%      22.288ms         4.44%      22.288ms       6.024us       0.000us         0.00%       0.000us       0.000us           0 b           0 b           0 b           0 b          3700  models/auv_torch.py(157): body2inertial                                      \n",
      "                                                                                                                                                                                                                                                             models/auv_torch.py(142): x_dot                                              \n",
      "                                                                                                                                                                                                                                                             models/auv_torch.py(129): forward                                            \n",
      "                                                                                                                                                                                                                                                             nn.Module: AUVFossen_0                                                       \n",
      "                                                                                                                                                                                                                                                             controllers/mppi_base.py(166): rollout_cost                                  \n",
      "                                                                                                                                                                                                                                                                                                                                          \n",
      "                                              aten::cat         2.43%      12.216ms         3.68%      18.483ms      20.537us       3.467ms         5.36%       3.467ms       3.852us           0 b           0 b      32.13 Mb      32.13 Mb           900  <built-in method concat of type object at 0x7f1198ddc9c0>                    \n",
      "                                                                                                                                                                                                                                                             models/auv_torch.py(157): body2inertial                                      \n",
      "                                                                                                                                                                                                                                                             models/auv_torch.py(142): x_dot                                              \n",
      "                                                                                                                                                                                                                                                             models/auv_torch.py(129): forward                                            \n",
      "                                                                                                                                                                                                                                                             nn.Module: AUVFossen_0                                                       \n",
      "                                                                                                                                                                                                                                                                                                                                          \n",
      "                                              aten::bmm         2.14%      10.715ms         3.17%      15.923ms      26.538us       9.903ms        15.31%       9.903ms      16.505us           0 b           0 b      13.77 Mb      13.77 Mb           600  <built-in method matmul of type object at 0x7f1198ddc9c0>                    \n",
      "                                                                                                                                                                                                                                                             models/auv_torch.py(254): skew_sym                                           \n",
      "                                                                                                                                                                                                                                                             models/auv_torch.py(239): coriolis                                           \n",
      "                                                                                                                                                                                                                                                             models/auv_torch.py(208): acc                                                \n",
      "                                                                                                                                                                                                                                                             models/auv_torch.py(142): x_dot                                              \n",
      "                                                                                                                                                                                                                                                                                                                                          \n",
      "-------------------------------------------------------  ------------  ------------  ------------  ------------  ------------  ------------  ------------  ------------  ------------  ------------  ------------  ------------  ------------  ------------  ---------------------------------------------------------------------------  \n",
      "Self CPU time total: 501.744ms\n",
      "Self CUDA time total: 64.663ms\n",
      "\n",
      "Total:     0.3588 s\n",
      "Rollout:     0.3508 s\n",
      "Model:     0.3188 s\n",
      "Cost:     0.0281 s\n",
      "Update:     0.0003 s\n"
     ]
    }
   ],
   "source": [
    "# GPU execution\n",
    "device = get_device(gpu=0)\n",
    "print(device)\n",
    "\n",
    "model = AUVFossen(model_conf).to(device)\n",
    "cost = Static(lam=lam,\n",
    "              gamma=gamma,\n",
    "              upsilon=upsilon,\n",
    "              sigma=sigma,\n",
    "              goal=goal,\n",
    "              Q=Q).to(device)\n",
    "obs = ObserverBase(log=False)\n",
    "cont = ControllerBase(model=model,\n",
    "                      cost=cost,\n",
    "                      observer=obs,\n",
    "                      k=k,\n",
    "                      tau=tau,\n",
    "                      lam=lam,\n",
    "                      upsilon=upsilon,\n",
    "                      sigma=sigma).to(device)\n",
    "\n",
    "state = torch.Tensor(np.zeros((3+4+3+3, 1), dtype=npdtype)).to(device)\n",
    "state[6] = 1.\n",
    "\n",
    "# warmstart \n",
    "act = cont(state)\n",
    "\n",
    "with profile(with_stack=True, profile_memory=True, use_cuda=True) as prof:\n",
    "    with record_function(\"model_inference\"):\n",
    "        act = cont(state)\n",
    "\n",
    "print(prof.key_averages(group_by_stack_n=10).table(sort_by=\"self_cpu_time_total\", row_limit=5))\n",
    "\n",
    "cont.rest_timer()\n",
    "\n",
    "for i in range(20):\n",
    "    act = cont(state)\n",
    "    next_state = model(state[None, ...], act[None, ...])[0]\n",
    "    state = next_state\n",
    "timeDict = cont.timeDict\n",
    "\n",
    "print(\"Total: {:10.4f} s\".format(timeDict[\"total\"]/timeDict[\"calls\"]))\n",
    "print(\"Rollout: {:10.4f} s\".format(timeDict[\"rollout\"]/timeDict[\"calls\"]))\n",
    "print(\"Model: {:10.4f} s\".format(timeDict[\"model\"]/timeDict[\"calls\"]))\n",
    "print(\"Cost: {:10.4f} s\".format(timeDict[\"cost\"]/timeDict[\"calls\"]))\n",
    "print(\"Update: {:10.4f} s\".format(timeDict[\"update\"]/timeDict[\"calls\"]))\n"
   ]
  },
  {
   "cell_type": "code",
   "execution_count": 7,
   "metadata": {},
   "outputs": [
    {
     "name": "stdout",
     "output_type": "stream",
     "text": [
      "cpu\n"
     ]
    },
    {
     "name": "stderr",
     "output_type": "stream",
     "text": [
      "STAGE:2023-04-27 11:06:03 9014:9014 ActivityProfilerController.cpp:294] Completed Stage: Warm Up\n",
      "STAGE:2023-04-27 11:06:04 9014:9014 ActivityProfilerController.cpp:300] Completed Stage: Collection\n"
     ]
    },
    {
     "name": "stdout",
     "output_type": "stream",
     "text": [
      "-----------------------------  ------------  ------------  ------------  ------------  ------------  ------------  ------------  ------------  ---------------------------------------------------------------------------  \n",
      "                         Name    Self CPU %      Self CPU   CPU total %     CPU total  CPU time avg       CPU Mem  Self CPU Mem    # of Calls  Source Location                                                              \n",
      "-----------------------------  ------------  ------------  ------------  ------------  ------------  ------------  ------------  ------------  ---------------------------------------------------------------------------  \n",
      "              model_inference        23.76%     126.961ms        99.99%     534.238ms     534.238ms       1.19 Kb    -569.30 Mb             1  ...-in method _record_function_enter of PyCapsule object at 0x7f10bdc2e630>  \n",
      "                                                                                                                                               torch/_ops.py(437): __call__                                                 \n",
      "                                                                                                                                               torch/autograd/profiler.py(487): __enter__                                   \n",
      "                                                                                                                                               /tmp/ipykernel_9014/1053301018.py(28): <module>                              \n",
      "                                                                                                                                               IPython/core/interactiveshell.py(3433): run_code                             \n",
      "                                                                                                                                                                                                                            \n",
      "                    aten::cat         7.93%      42.360ms         8.37%      44.705ms     149.017us      64.09 Mb      64.09 Mb           300  <built-in method concat of type object at 0x7f1198ddc9c0>                    \n",
      "                                                                                                                                               models/auv_torch.py(199): jacobian                                           \n",
      "                                                                                                                                               models/auv_torch.py(142): x_dot                                              \n",
      "                                                                                                                                               models/auv_torch.py(129): forward                                            \n",
      "                                                                                                                                               nn.Module: AUVFossen_0                                                       \n",
      "                                                                                                                                                                                                                            \n",
      "                    aten::cat         6.36%      33.959ms         6.87%      36.728ms      40.809us      32.04 Mb      32.04 Mb           900  <built-in method concat of type object at 0x7f1198ddc9c0>                    \n",
      "                                                                                                                                               models/auv_torch.py(157): body2inertial                                      \n",
      "                                                                                                                                               models/auv_torch.py(142): x_dot                                              \n",
      "                                                                                                                                               models/auv_torch.py(129): forward                                            \n",
      "                                                                                                                                               nn.Module: AUVFossen_0                                                       \n",
      "                                                                                                                                                                                                                            \n",
      "                    aten::cat         4.87%      26.006ms         5.20%      27.756ms      92.520us      54.93 Mb      54.93 Mb           300  <built-in method concat of type object at 0x7f1198ddc9c0>                    \n",
      "                                                                                                                                               models/auv_torch.py(239): coriolis                                           \n",
      "                                                                                                                                               models/auv_torch.py(208): acc                                                \n",
      "                                                                                                                                               models/auv_torch.py(142): x_dot                                              \n",
      "                                                                                                                                               models/auv_torch.py(129): forward                                            \n",
      "                                                                                                                                                                                                                            \n",
      "                    aten::cat         4.19%      22.385ms         4.19%      22.385ms     111.925us      13.73 Mb      13.73 Mb           200  <built-in method concat of type object at 0x7f1198ddc9c0>                    \n",
      "                                                                                                                                               models/auv_torch.py(254): skew_sym                                           \n",
      "                                                                                                                                               models/auv_torch.py(239): coriolis                                           \n",
      "                                                                                                                                               models/auv_torch.py(208): acc                                                \n",
      "                                                                                                                                               models/auv_torch.py(142): x_dot                                              \n",
      "                                                                                                                                                                                                                            \n",
      "-----------------------------  ------------  ------------  ------------  ------------  ------------  ------------  ------------  ------------  ---------------------------------------------------------------------------  \n",
      "Self CPU time total: 534.271ms\n",
      "\n",
      "Total:     0.4939 s\n",
      "Rollout:     0.4860 s\n",
      "Model:     0.4518 s\n",
      "Cost:     0.0286 s\n",
      "Update:     0.0006 s\n"
     ]
    },
    {
     "ename": "",
     "evalue": "",
     "output_type": "error",
     "traceback": [
      "\u001b[1;31mThe Kernel crashed while executing code in the the current cell or a previous cell. Please review the code in the cell(s) to identify a possible cause of the failure. Click <a href='https://aka.ms/vscodeJupyterKernelCrash'>here</a> for more info. View Jupyter <a href='command:jupyter.viewOutput'>log</a> for further details."
     ]
    }
   ],
   "source": [
    "# CPU execution\n",
    "device = get_device(cpu=True)\n",
    "print(device)\n",
    "\n",
    "model = AUVFossen(model_conf).to(device)\n",
    "cost = Static(lam=lam,\n",
    "              gamma=gamma,\n",
    "              upsilon=upsilon,\n",
    "              sigma=sigma,\n",
    "              goal=goal,\n",
    "              Q=Q).to(device)\n",
    "obs = ObserverBase(log=False)\n",
    "cont = ControllerBase(model=model,\n",
    "                      cost=cost,\n",
    "                      observer=obs,\n",
    "                      k=k,\n",
    "                      tau=tau,\n",
    "                      lam=lam,\n",
    "                      upsilon=upsilon,\n",
    "                      sigma=sigma).to(device)\n",
    "\n",
    "state = torch.Tensor(np.zeros((3+4+3+3, 1), dtype=npdtype)).to(device)\n",
    "state[6] = 1.\n",
    "\n",
    "# warmstart \n",
    "act = cont(state)\n",
    "\n",
    "with profile(with_stack=True, profile_memory=True, use_cuda=True) as prof:\n",
    "    with record_function(\"model_inference\"):\n",
    "        act = cont(state)\n",
    "\n",
    "print(prof.key_averages(group_by_stack_n=10).table(sort_by=\"self_cpu_time_total\", row_limit=5))\n",
    "\n",
    "for i in range(20):\n",
    "    act = cont(state)\n",
    "    next_state = model(state[None, ...], act[None, ...])[0]\n",
    "    state = next_state\n",
    "timeDict = cont.timeDict\n",
    "\n",
    "print(\"Total: {:10.4f} s\".format(timeDict[\"total\"]/timeDict[\"calls\"]))\n",
    "print(\"Rollout: {:10.4f} s\".format(timeDict[\"rollout\"]/timeDict[\"calls\"]))\n",
    "print(\"Model: {:10.4f} s\".format(timeDict[\"model\"]/timeDict[\"calls\"]))\n",
    "print(\"Cost: {:10.4f} s\".format(timeDict[\"cost\"]/timeDict[\"calls\"]))\n",
    "print(\"Update: {:10.4f} s\".format(timeDict[\"update\"]/timeDict[\"calls\"]))"
   ]
  },
  {
   "cell_type": "code",
   "execution_count": 1,
   "metadata": {},
   "outputs": [
    {
     "name": "stderr",
     "output_type": "stream",
     "text": [
      "/home/pierre/anaconda3/envs/pypose/lib/python3.9/site-packages/tqdm/auto.py:22: TqdmWarning: IProgress not found. Please update jupyter and ipywidgets. See https://ipywidgets.readthedocs.io/en/stable/user_install.html\n",
      "  from .autonotebook import tqdm as notebook_tqdm\n"
     ]
    }
   ],
   "source": [
    "import torch\n",
    "import numpy as np\n",
    "from torch import nn\n",
    "import torch.autograd.profiler as profiler"
   ]
  },
  {
   "cell_type": "code",
   "execution_count": 21,
   "metadata": {},
   "outputs": [],
   "source": [
    "class MyModuleOpti(nn.Module):\n",
    "    def __init__(self):\n",
    "        super(MyModuleOpti, self).__init__()\n",
    "        mTot = torch.Tensor(\n",
    "                np.array([[100., 0., 0., 0., 0., 0.],\n",
    "                          [0., 100., 0., 0., 0., 0.],\n",
    "                          [0., 0., 100., 0., 0., 0.],\n",
    "                          [0., 0., 0., 100., 0., 0.],\n",
    "                          [0., 0., 0., 0., 100., 0.],\n",
    "                          [0., 0., 0., 0., 0., 100.]]) + 1e-7)\n",
    "\n",
    "        self.register_buffer(\"mTot\", mTot)\n",
    "        self.register_buffer(\"invMtot\", torch.linalg.inv(mTot))\n",
    "\n",
    "    def forward(self, input):\n",
    "        acc = torch.matmul(self.invMtot, input)\n",
    "        return acc\n",
    "\n",
    "class MyModule(nn.Module):\n",
    "    def __init__(self):\n",
    "        super(MyModule, self).__init__()\n",
    "        mTot = torch.Tensor(\n",
    "                np.array([[100., 0., 0., 0., 0., 0.],\n",
    "                          [0., 100., 0., 0., 0., 0.],\n",
    "                          [0., 0., 100., 0., 0., 0.],\n",
    "                          [0., 0., 0., 100., 0., 0.],\n",
    "                          [0., 0., 0., 0., 100., 0.],\n",
    "                          [0., 0., 0., 0., 0., 100.]]) + 1e-7)\n",
    "\n",
    "        self.register_buffer(\"mTot\", mTot)\n",
    "        self.register_buffer(\"invMtot\", torch.linalg.inv(mTot))\n",
    "\n",
    "    def forward(self, input):\n",
    "        acc = torch.linalg.solve(self.mTot, input)\n",
    "        return acc\n"
   ]
  },
  {
   "cell_type": "code",
   "execution_count": 26,
   "metadata": {},
   "outputs": [
    {
     "name": "stdout",
     "output_type": "stream",
     "text": [
      "------------------------------  ------------  ------------  ------------  ------------  ------------  ------------  ------------  ------------  ------------  ------------  -----------------------------------------------------------  \n",
      "                          Name    Self CPU %      Self CPU   CPU total %     CPU total  CPU time avg       CPU Mem  Self CPU Mem      CUDA Mem  Self CUDA Mem    # of Calls  Source Location                                              \n",
      "------------------------------  ------------  ------------  ------------  ------------  ------------  ------------  ------------  ------------  ------------  ------------  -----------------------------------------------------------  \n",
      "               cudaMemcpyAsync        45.69%       1.563ms        45.69%       1.563ms     390.750us           0 b           0 b           0 b           0 b             4  <built-in function linalg_solve>                             \n",
      "                                                                                                                                                                            /tmp/ipykernel_18091/3752272986.py(33): forward              \n",
      "                                                                                                                                                                            nn.Module: MyModule_0                                        \n",
      "                                                                                                                                                                            /tmp/ipykernel_18091/284941033.py(7): <module>               \n",
      "                                                                                                                                                                            IPython/core/interactiveshell.py(3433): run_code             \n",
      "                                                                                                                                                                                                                                         \n",
      "        aten::_linalg_solve_ex        39.99%       1.368ms        52.50%       1.796ms       1.796ms           0 b           0 b       2.00 Kb       2.00 Kb             1  <built-in function linalg_solve>                             \n",
      "                                                                                                                                                                            /tmp/ipykernel_18091/3752272986.py(33): forward              \n",
      "                                                                                                                                                                            nn.Module: MyModule_0                                        \n",
      "                                                                                                                                                                            /tmp/ipykernel_18091/284941033.py(7): <module>               \n",
      "                                                                                                                                                                            IPython/core/interactiveshell.py(3433): run_code             \n",
      "                                                                                                                                                                                                                                         \n",
      "              cudaLaunchKernel         2.92%     100.000us         2.92%     100.000us       9.091us           0 b           0 b           0 b           0 b            11  <built-in function linalg_solve>                             \n",
      "                                                                                                                                                                            /tmp/ipykernel_18091/3752272986.py(33): forward              \n",
      "                                                                                                                                                                            nn.Module: MyModule_0                                        \n",
      "                                                                                                                                                                            /tmp/ipykernel_18091/284941033.py(7): <module>               \n",
      "                                                                                                                                                                            IPython/core/interactiveshell.py(3433): run_code             \n",
      "                                                                                                                                                                                                                                         \n",
      "                   aten::copy_         2.10%      72.000us         4.62%     158.000us      26.333us           0 b           0 b           0 b           0 b             6  <built-in function linalg_solve>                             \n",
      "                                                                                                                                                                            /tmp/ipykernel_18091/3752272986.py(33): forward              \n",
      "                                                                                                                                                                            nn.Module: MyModule_0                                        \n",
      "                                                                                                                                                                            /tmp/ipykernel_18091/284941033.py(7): <module>               \n",
      "                                                                                                                                                                            IPython/core/interactiveshell.py(3433): run_code             \n",
      "                                                                                                                                                                                                                                         \n",
      "         aten::linalg_lu_solve         1.75%      60.000us         8.27%     283.000us     283.000us           0 b           0 b           0 b      -4.50 Kb             1  <built-in function linalg_solve>                             \n",
      "                                                                                                                                                                            /tmp/ipykernel_18091/3752272986.py(33): forward              \n",
      "                                                                                                                                                                            nn.Module: MyModule_0                                        \n",
      "                                                                                                                                                                            /tmp/ipykernel_18091/284941033.py(7): <module>               \n",
      "                                                                                                                                                                            IPython/core/interactiveshell.py(3433): run_code             \n",
      "                                                                                                                                                                                                                                         \n",
      "------------------------------  ------------  ------------  ------------  ------------  ------------  ------------  ------------  ------------  ------------  ------------  -----------------------------------------------------------  \n",
      "Self CPU time total: 3.421ms\n",
      "\n"
     ]
    },
    {
     "name": "stderr",
     "output_type": "stream",
     "text": [
      "STAGE:2023-04-26 23:20:16 18091:18091 ActivityProfilerController.cpp:294] Completed Stage: Warm Up\n",
      "STAGE:2023-04-26 23:20:16 18091:18091 ActivityProfilerController.cpp:300] Completed Stage: Collection\n"
     ]
    }
   ],
   "source": [
    "model = MyModule().cuda()\n",
    "input = torch.rand(20, 6, 1).cuda()\n",
    "\n",
    "# Warm-up\n",
    "model(input)\n",
    "\n",
    "with profiler.profile(with_stack=True, profile_memory=True) as prof:\n",
    "    out = model(input)\n",
    "print(prof.key_averages(group_by_stack_n=15).table(sort_by='self_cpu_time_total', row_limit=5))"
   ]
  },
  {
   "cell_type": "code",
   "execution_count": 27,
   "metadata": {},
   "outputs": [
    {
     "name": "stdout",
     "output_type": "stream",
     "text": [
      "-------------------------------------------------------  ------------  ------------  ------------  ------------  ------------  ------------  ------------  ------------  ------------  ------------  -------------------------------------------------------------  \n",
      "                                                   Name    Self CPU %      Self CPU   CPU total %     CPU total  CPU time avg       CPU Mem  Self CPU Mem      CUDA Mem  Self CUDA Mem    # of Calls  Source Location                                                \n",
      "-------------------------------------------------------  ------------  ------------  ------------  ------------  ------------  ------------  ------------  ------------  ------------  ------------  -------------------------------------------------------------  \n",
      "                                               aten::mm        92.32%       1.802ms        95.03%       1.855ms       1.855ms           0 b           0 b         512 b         512 b             1  <built-in method matmul of type object at 0x7f5aa90a39c0>      \n",
      "                                                                                                                                                                                                     /tmp/ipykernel_18091/3752272986.py(15): forward                \n",
      "                                                                                                                                                                                                     nn.Module: MyModuleOpti_0                                      \n",
      "                                                                                                                                                                                                     /tmp/ipykernel_18091/2589787105.py(6): <module>                \n",
      "                                                                                                                                                                                                     IPython/core/interactiveshell.py(3433): run_code               \n",
      "                                                                                                                                                                                                                                                                    \n",
      "                                       cudaLaunchKernel         2.41%      47.000us         2.41%      47.000us      47.000us           0 b           0 b           0 b           0 b             1  <built-in method matmul of type object at 0x7f5aa90a39c0>      \n",
      "                                                                                                                                                                                                     /tmp/ipykernel_18091/3752272986.py(15): forward                \n",
      "                                                                                                                                                                                                     nn.Module: MyModuleOpti_0                                      \n",
      "                                                                                                                                                                                                     /tmp/ipykernel_18091/2589787105.py(6): <module>                \n",
      "                                                                                                                                                                                                     IPython/core/interactiveshell.py(3433): run_code               \n",
      "                                                                                                                                                                                                                                                                    \n",
      "                                           aten::matmul         1.90%      37.000us       100.00%       1.952ms       1.952ms           0 b           0 b         512 b           0 b             1  <built-in method matmul of type object at 0x7f5aa90a39c0>      \n",
      "                                                                                                                                                                                                     /tmp/ipykernel_18091/3752272986.py(15): forward                \n",
      "                                                                                                                                                                                                     nn.Module: MyModuleOpti_0                                      \n",
      "                                                                                                                                                                                                     /tmp/ipykernel_18091/2589787105.py(6): <module>                \n",
      "                                                                                                                                                                                                     IPython/core/interactiveshell.py(3433): run_code               \n",
      "                                                                                                                                                                                                                                                                    \n",
      "                                        aten::transpose         1.13%      22.000us         1.49%      29.000us       9.667us           0 b           0 b           0 b           0 b             3  <built-in method matmul of type object at 0x7f5aa90a39c0>      \n",
      "                                                                                                                                                                                                     /tmp/ipykernel_18091/3752272986.py(15): forward                \n",
      "                                                                                                                                                                                                     nn.Module: MyModuleOpti_0                                      \n",
      "                                                                                                                                                                                                     /tmp/ipykernel_18091/2589787105.py(6): <module>                \n",
      "                                                                                                                                                                                                     IPython/core/interactiveshell.py(3433): run_code               \n",
      "                                                                                                                                                                                                                                                                    \n",
      "                                          aten::reshape         0.41%       8.000us         0.67%      13.000us      13.000us           0 b           0 b           0 b           0 b             1  <built-in method matmul of type object at 0x7f5aa90a39c0>      \n",
      "                                                                                                                                                                                                     /tmp/ipykernel_18091/3752272986.py(15): forward                \n",
      "                                                                                                                                                                                                     nn.Module: MyModuleOpti_0                                      \n",
      "                                                                                                                                                                                                     /tmp/ipykernel_18091/2589787105.py(6): <module>                \n",
      "                                                                                                                                                                                                     IPython/core/interactiveshell.py(3433): run_code               \n",
      "                                                                                                                                                                                                                                                                    \n",
      "-------------------------------------------------------  ------------  ------------  ------------  ------------  ------------  ------------  ------------  ------------  ------------  ------------  -------------------------------------------------------------  \n",
      "Self CPU time total: 1.952ms\n",
      "\n"
     ]
    },
    {
     "name": "stderr",
     "output_type": "stream",
     "text": [
      "STAGE:2023-04-26 23:20:18 18091:18091 ActivityProfilerController.cpp:294] Completed Stage: Warm Up\n",
      "STAGE:2023-04-26 23:20:18 18091:18091 ActivityProfilerController.cpp:300] Completed Stage: Collection\n"
     ]
    }
   ],
   "source": [
    "model_opti = MyModuleOpti().cuda()\n",
    "\n",
    "# Warm-up\n",
    "model_opti(input)\n",
    "\n",
    "with profiler.profile(with_stack=True, profile_memory=True) as prof:\n",
    "    out_opti = model_opti(input)\n",
    "print(prof.key_averages(group_by_stack_n=15).table(sort_by='self_cpu_time_total', row_limit=5))\n"
   ]
  },
  {
   "cell_type": "code",
   "execution_count": null,
   "metadata": {},
   "outputs": [],
   "source": []
  }
 ],
 "metadata": {
  "kernelspec": {
   "display_name": "pypose",
   "language": "python",
   "name": "python3"
  },
  "language_info": {
   "codemirror_mode": {
    "name": "ipython",
    "version": 3
   },
   "file_extension": ".py",
   "mimetype": "text/x-python",
   "name": "python",
   "nbconvert_exporter": "python",
   "pygments_lexer": "ipython3",
   "version": "3.9.15"
  },
  "orig_nbformat": 4
 },
 "nbformat": 4,
 "nbformat_minor": 2
}
